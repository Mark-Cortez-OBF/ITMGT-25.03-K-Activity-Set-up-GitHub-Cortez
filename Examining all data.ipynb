{
 "cells": [
  {
   "cell_type": "code",
   "execution_count": 1,
   "id": "08b744ef",
   "metadata": {},
   "outputs": [],
   "source": [
    "import pandas as pd\n",
    "\n",
    "df = pd.read_csv(\"WA_Fn-UseC_-HR-Employee-Attrition.csv\")"
   ]
  },
  {
   "cell_type": "code",
   "execution_count": 2,
   "id": "139eebaa",
   "metadata": {},
   "outputs": [
    {
     "name": "stdout",
     "output_type": "stream",
     "text": [
      "Chi-square statistic: 119.1749488286986\n",
      "p-value: 2.5758529842770494e-09\n"
     ]
    }
   ],
   "source": [
    "import numpy as np\n",
    "from scipy.stats import chi2_contingency\n",
    "\n",
    "crosstab = pd.crosstab(df.Age, df.Attrition)\n",
    "res = chi2_contingency(crosstab)\n",
    "print(\"Chi-square statistic:\",res.statistic)\n",
    "print(\"p-value:\",res.pvalue)"
   ]
  },
  {
   "cell_type": "code",
   "execution_count": 4,
   "id": "45eb6877",
   "metadata": {},
   "outputs": [
    {
     "name": "stdout",
     "output_type": "stream",
     "text": [
      "Correlation coefficient: -0.1592050068657792\n"
     ]
    }
   ],
   "source": [
    "attrition_mapping = {'Yes': 1, 'No': 0}\n",
    "df['Attrition_Boolean'] = df['Attrition'].map(attrition_mapping)\n",
    "\n",
    "correlation = df['Age'].corr(df['Attrition_Boolean'])\n",
    "\n",
    "print(\"Correlation coefficient:\", correlation)"
   ]
  },
  {
   "cell_type": "code",
   "execution_count": 5,
   "id": "604a0e1a",
   "metadata": {},
   "outputs": [
    {
     "name": "stdout",
     "output_type": "stream",
     "text": [
      "Chi-square statistic: 24.182413685655174\n",
      "p-value: 5.608614476449931e-06\n"
     ]
    }
   ],
   "source": [
    "crosstab = pd.crosstab(df.BusinessTravel, df.Attrition)\n",
    "res = chi2_contingency(crosstab)\n",
    "print(\"Chi-square statistic:\",res.statistic)\n",
    "print(\"p-value:\",res.pvalue)"
   ]
  },
  {
   "cell_type": "code",
   "execution_count": 18,
   "id": "a082bb3c",
   "metadata": {},
   "outputs": [
    {
     "data": {
      "text/html": [
       "<div>\n",
       "<style scoped>\n",
       "    .dataframe tbody tr th:only-of-type {\n",
       "        vertical-align: middle;\n",
       "    }\n",
       "\n",
       "    .dataframe tbody tr th {\n",
       "        vertical-align: top;\n",
       "    }\n",
       "\n",
       "    .dataframe thead th {\n",
       "        text-align: right;\n",
       "    }\n",
       "</style>\n",
       "<table border=\"1\" class=\"dataframe\">\n",
       "  <thead>\n",
       "    <tr style=\"text-align: right;\">\n",
       "      <th>Attrition</th>\n",
       "      <th>No</th>\n",
       "      <th>Yes</th>\n",
       "    </tr>\n",
       "    <tr>\n",
       "      <th>BusinessTravel</th>\n",
       "      <th></th>\n",
       "      <th></th>\n",
       "    </tr>\n",
       "  </thead>\n",
       "  <tbody>\n",
       "    <tr>\n",
       "      <th>Non-Travel</th>\n",
       "      <td>0.920000</td>\n",
       "      <td>0.080000</td>\n",
       "    </tr>\n",
       "    <tr>\n",
       "      <th>Travel_Rarely</th>\n",
       "      <td>0.850431</td>\n",
       "      <td>0.149569</td>\n",
       "    </tr>\n",
       "    <tr>\n",
       "      <th>Travel_Frequently</th>\n",
       "      <td>0.750903</td>\n",
       "      <td>0.249097</td>\n",
       "    </tr>\n",
       "  </tbody>\n",
       "</table>\n",
       "</div>"
      ],
      "text/plain": [
       "Attrition                No       Yes\n",
       "BusinessTravel                       \n",
       "Non-Travel         0.920000  0.080000\n",
       "Travel_Rarely      0.850431  0.149569\n",
       "Travel_Frequently  0.750903  0.249097"
      ]
     },
     "execution_count": 18,
     "metadata": {},
     "output_type": "execute_result"
    }
   ],
   "source": [
    "pd.crosstab(df['BusinessTravel'], df['Attrition'], normalize='index').sort_values(by='Yes')"
   ]
  },
  {
   "cell_type": "code",
   "execution_count": 7,
   "id": "08ecc493",
   "metadata": {},
   "outputs": [
    {
     "name": "stdout",
     "output_type": "stream",
     "text": [
      "Chi-square statistic: 10.79600732241067\n",
      "p-value: 0.004525606574479634\n"
     ]
    }
   ],
   "source": [
    "crosstab = pd.crosstab(df.Department, df.Attrition)\n",
    "res = chi2_contingency(crosstab)\n",
    "print(\"Chi-square statistic:\",res.statistic)\n",
    "print(\"p-value:\",res.pvalue)"
   ]
  },
  {
   "cell_type": "code",
   "execution_count": 17,
   "id": "a7cc5a71",
   "metadata": {},
   "outputs": [
    {
     "data": {
      "text/html": [
       "<div>\n",
       "<style scoped>\n",
       "    .dataframe tbody tr th:only-of-type {\n",
       "        vertical-align: middle;\n",
       "    }\n",
       "\n",
       "    .dataframe tbody tr th {\n",
       "        vertical-align: top;\n",
       "    }\n",
       "\n",
       "    .dataframe thead th {\n",
       "        text-align: right;\n",
       "    }\n",
       "</style>\n",
       "<table border=\"1\" class=\"dataframe\">\n",
       "  <thead>\n",
       "    <tr style=\"text-align: right;\">\n",
       "      <th>Attrition</th>\n",
       "      <th>No</th>\n",
       "      <th>Yes</th>\n",
       "    </tr>\n",
       "    <tr>\n",
       "      <th>Department</th>\n",
       "      <th></th>\n",
       "      <th></th>\n",
       "    </tr>\n",
       "  </thead>\n",
       "  <tbody>\n",
       "    <tr>\n",
       "      <th>Research &amp; Development</th>\n",
       "      <td>0.861602</td>\n",
       "      <td>0.138398</td>\n",
       "    </tr>\n",
       "    <tr>\n",
       "      <th>Human Resources</th>\n",
       "      <td>0.809524</td>\n",
       "      <td>0.190476</td>\n",
       "    </tr>\n",
       "    <tr>\n",
       "      <th>Sales</th>\n",
       "      <td>0.793722</td>\n",
       "      <td>0.206278</td>\n",
       "    </tr>\n",
       "  </tbody>\n",
       "</table>\n",
       "</div>"
      ],
      "text/plain": [
       "Attrition                     No       Yes\n",
       "Department                                \n",
       "Research & Development  0.861602  0.138398\n",
       "Human Resources         0.809524  0.190476\n",
       "Sales                   0.793722  0.206278"
      ]
     },
     "execution_count": 17,
     "metadata": {},
     "output_type": "execute_result"
    }
   ],
   "source": [
    "pd.crosstab(df['Department'], df['Attrition'], normalize='index').sort_values(by='Yes')"
   ]
  },
  {
   "cell_type": "code",
   "execution_count": 10,
   "id": "6be12154",
   "metadata": {},
   "outputs": [
    {
     "name": "stdout",
     "output_type": "stream",
     "text": [
      "Chi-square statistic: 38.16850025507776\n",
      "p-value: 0.09525313501707135\n"
     ]
    }
   ],
   "source": [
    "crosstab = pd.crosstab(df.DistanceFromHome, df.Attrition)\n",
    "res = chi2_contingency(crosstab)\n",
    "print(\"Chi-square statistic:\",res.statistic)\n",
    "print(\"p-value:\",res.pvalue)"
   ]
  },
  {
   "cell_type": "code",
   "execution_count": 11,
   "id": "9ee1c68c",
   "metadata": {},
   "outputs": [
    {
     "name": "stdout",
     "output_type": "stream",
     "text": [
      "Chi-square statistic: 3.0739613982367193\n",
      "p-value: 0.5455253376565949\n"
     ]
    }
   ],
   "source": [
    "crosstab = pd.crosstab(df.Education, df.Attrition)\n",
    "res = chi2_contingency(crosstab)\n",
    "print(\"Chi-square statistic:\",res.statistic)\n",
    "print(\"p-value:\",res.pvalue)"
   ]
  },
  {
   "cell_type": "code",
   "execution_count": 12,
   "id": "1194d2a2",
   "metadata": {},
   "outputs": [
    {
     "name": "stdout",
     "output_type": "stream",
     "text": [
      "Chi-square statistic: 16.024674119585427\n",
      "p-value: 0.006773980139025213\n"
     ]
    }
   ],
   "source": [
    "crosstab = pd.crosstab(df.EducationField, df.Attrition)\n",
    "res = chi2_contingency(crosstab)\n",
    "print(\"Chi-square statistic:\",res.statistic)\n",
    "print(\"p-value:\",res.pvalue)"
   ]
  },
  {
   "cell_type": "code",
   "execution_count": 21,
   "id": "1700dfa4",
   "metadata": {},
   "outputs": [
    {
     "data": {
      "text/html": [
       "<div>\n",
       "<style scoped>\n",
       "    .dataframe tbody tr th:only-of-type {\n",
       "        vertical-align: middle;\n",
       "    }\n",
       "\n",
       "    .dataframe tbody tr th {\n",
       "        vertical-align: top;\n",
       "    }\n",
       "\n",
       "    .dataframe thead th {\n",
       "        text-align: right;\n",
       "    }\n",
       "</style>\n",
       "<table border=\"1\" class=\"dataframe\">\n",
       "  <thead>\n",
       "    <tr style=\"text-align: right;\">\n",
       "      <th>Attrition</th>\n",
       "      <th>No</th>\n",
       "      <th>Yes</th>\n",
       "    </tr>\n",
       "    <tr>\n",
       "      <th>EducationField</th>\n",
       "      <th></th>\n",
       "      <th></th>\n",
       "    </tr>\n",
       "  </thead>\n",
       "  <tbody>\n",
       "    <tr>\n",
       "      <th>Other</th>\n",
       "      <td>0.865854</td>\n",
       "      <td>0.134146</td>\n",
       "    </tr>\n",
       "    <tr>\n",
       "      <th>Medical</th>\n",
       "      <td>0.864224</td>\n",
       "      <td>0.135776</td>\n",
       "    </tr>\n",
       "    <tr>\n",
       "      <th>Life Sciences</th>\n",
       "      <td>0.853135</td>\n",
       "      <td>0.146865</td>\n",
       "    </tr>\n",
       "    <tr>\n",
       "      <th>Marketing</th>\n",
       "      <td>0.779874</td>\n",
       "      <td>0.220126</td>\n",
       "    </tr>\n",
       "    <tr>\n",
       "      <th>Technical Degree</th>\n",
       "      <td>0.757576</td>\n",
       "      <td>0.242424</td>\n",
       "    </tr>\n",
       "    <tr>\n",
       "      <th>Human Resources</th>\n",
       "      <td>0.740741</td>\n",
       "      <td>0.259259</td>\n",
       "    </tr>\n",
       "  </tbody>\n",
       "</table>\n",
       "</div>"
      ],
      "text/plain": [
       "Attrition               No       Yes\n",
       "EducationField                      \n",
       "Other             0.865854  0.134146\n",
       "Medical           0.864224  0.135776\n",
       "Life Sciences     0.853135  0.146865\n",
       "Marketing         0.779874  0.220126\n",
       "Technical Degree  0.757576  0.242424\n",
       "Human Resources   0.740741  0.259259"
      ]
     },
     "execution_count": 21,
     "metadata": {},
     "output_type": "execute_result"
    }
   ],
   "source": [
    "pd.crosstab(df['EducationField'], df['Attrition'], normalize='index').sort_values(by='Yes')"
   ]
  },
  {
   "cell_type": "code",
   "execution_count": 22,
   "id": "4b749ac7",
   "metadata": {},
   "outputs": [
    {
     "name": "stdout",
     "output_type": "stream",
     "text": [
      "Chi-square statistic: 22.503881435842295\n",
      "p-value: 5.1234689062894205e-05\n"
     ]
    }
   ],
   "source": [
    "crosstab = pd.crosstab(df.EnvironmentSatisfaction, df.Attrition)\n",
    "res = chi2_contingency(crosstab)\n",
    "print(\"Chi-square statistic:\",res.statistic)\n",
    "print(\"p-value:\",res.pvalue)"
   ]
  },
  {
   "cell_type": "code",
   "execution_count": 23,
   "id": "cdbff026",
   "metadata": {},
   "outputs": [
    {
     "name": "stdout",
     "output_type": "stream",
     "text": [
      "Correlation coefficient: -0.10336897833793582\n"
     ]
    }
   ],
   "source": [
    "correlation = df['EnvironmentSatisfaction'].corr(df['Attrition_Boolean'])\n",
    "\n",
    "print(\"Correlation coefficient:\", correlation)"
   ]
  },
  {
   "cell_type": "code",
   "execution_count": 24,
   "id": "fa7a3d21",
   "metadata": {},
   "outputs": [
    {
     "data": {
      "text/html": [
       "<div>\n",
       "<style scoped>\n",
       "    .dataframe tbody tr th:only-of-type {\n",
       "        vertical-align: middle;\n",
       "    }\n",
       "\n",
       "    .dataframe tbody tr th {\n",
       "        vertical-align: top;\n",
       "    }\n",
       "\n",
       "    .dataframe thead th {\n",
       "        text-align: right;\n",
       "    }\n",
       "</style>\n",
       "<table border=\"1\" class=\"dataframe\">\n",
       "  <thead>\n",
       "    <tr style=\"text-align: right;\">\n",
       "      <th>Attrition</th>\n",
       "      <th>No</th>\n",
       "      <th>Yes</th>\n",
       "    </tr>\n",
       "    <tr>\n",
       "      <th>EnvironmentSatisfaction</th>\n",
       "      <th></th>\n",
       "      <th></th>\n",
       "    </tr>\n",
       "  </thead>\n",
       "  <tbody>\n",
       "    <tr>\n",
       "      <th>4</th>\n",
       "      <td>0.865471</td>\n",
       "      <td>0.134529</td>\n",
       "    </tr>\n",
       "    <tr>\n",
       "      <th>3</th>\n",
       "      <td>0.863135</td>\n",
       "      <td>0.136865</td>\n",
       "    </tr>\n",
       "    <tr>\n",
       "      <th>2</th>\n",
       "      <td>0.850174</td>\n",
       "      <td>0.149826</td>\n",
       "    </tr>\n",
       "    <tr>\n",
       "      <th>1</th>\n",
       "      <td>0.746479</td>\n",
       "      <td>0.253521</td>\n",
       "    </tr>\n",
       "  </tbody>\n",
       "</table>\n",
       "</div>"
      ],
      "text/plain": [
       "Attrition                      No       Yes\n",
       "EnvironmentSatisfaction                    \n",
       "4                        0.865471  0.134529\n",
       "3                        0.863135  0.136865\n",
       "2                        0.850174  0.149826\n",
       "1                        0.746479  0.253521"
      ]
     },
     "execution_count": 24,
     "metadata": {},
     "output_type": "execute_result"
    }
   ],
   "source": [
    "pd.crosstab(df['EnvironmentSatisfaction'], df['Attrition'], normalize='index').sort_values(by='Yes')"
   ]
  },
  {
   "cell_type": "code",
   "execution_count": 25,
   "id": "b47d8a68",
   "metadata": {},
   "outputs": [
    {
     "name": "stdout",
     "output_type": "stream",
     "text": [
      "Chi-square statistic: 1.1169671241970975\n",
      "p-value: 0.29057244902890855\n"
     ]
    }
   ],
   "source": [
    "crosstab = pd.crosstab(df.Gender, df.Attrition)\n",
    "res = chi2_contingency(crosstab)\n",
    "print(\"Chi-square statistic:\",res.statistic)\n",
    "print(\"p-value:\",res.pvalue)"
   ]
  },
  {
   "cell_type": "code",
   "execution_count": 27,
   "id": "de75e8e0",
   "metadata": {},
   "outputs": [
    {
     "name": "stdout",
     "output_type": "stream",
     "text": [
      "Chi-square statistic: 28.492021234659283\n",
      "p-value: 2.8631806367134195e-06\n"
     ]
    }
   ],
   "source": [
    "crosstab = pd.crosstab(df.JobInvolvement, df.Attrition)\n",
    "res = chi2_contingency(crosstab)\n",
    "print(\"Chi-square statistic:\",res.statistic)\n",
    "print(\"p-value:\",res.pvalue)"
   ]
  },
  {
   "cell_type": "code",
   "execution_count": 28,
   "id": "12fe60b2",
   "metadata": {},
   "outputs": [
    {
     "data": {
      "text/html": [
       "<div>\n",
       "<style scoped>\n",
       "    .dataframe tbody tr th:only-of-type {\n",
       "        vertical-align: middle;\n",
       "    }\n",
       "\n",
       "    .dataframe tbody tr th {\n",
       "        vertical-align: top;\n",
       "    }\n",
       "\n",
       "    .dataframe thead th {\n",
       "        text-align: right;\n",
       "    }\n",
       "</style>\n",
       "<table border=\"1\" class=\"dataframe\">\n",
       "  <thead>\n",
       "    <tr style=\"text-align: right;\">\n",
       "      <th>Attrition</th>\n",
       "      <th>No</th>\n",
       "      <th>Yes</th>\n",
       "    </tr>\n",
       "    <tr>\n",
       "      <th>JobInvolvement</th>\n",
       "      <th></th>\n",
       "      <th></th>\n",
       "    </tr>\n",
       "  </thead>\n",
       "  <tbody>\n",
       "    <tr>\n",
       "      <th>4</th>\n",
       "      <td>0.909722</td>\n",
       "      <td>0.090278</td>\n",
       "    </tr>\n",
       "    <tr>\n",
       "      <th>3</th>\n",
       "      <td>0.855991</td>\n",
       "      <td>0.144009</td>\n",
       "    </tr>\n",
       "    <tr>\n",
       "      <th>2</th>\n",
       "      <td>0.810667</td>\n",
       "      <td>0.189333</td>\n",
       "    </tr>\n",
       "    <tr>\n",
       "      <th>1</th>\n",
       "      <td>0.662651</td>\n",
       "      <td>0.337349</td>\n",
       "    </tr>\n",
       "  </tbody>\n",
       "</table>\n",
       "</div>"
      ],
      "text/plain": [
       "Attrition             No       Yes\n",
       "JobInvolvement                    \n",
       "4               0.909722  0.090278\n",
       "3               0.855991  0.144009\n",
       "2               0.810667  0.189333\n",
       "1               0.662651  0.337349"
      ]
     },
     "execution_count": 28,
     "metadata": {},
     "output_type": "execute_result"
    }
   ],
   "source": [
    "pd.crosstab(df['JobInvolvement'], df['Attrition'], normalize='index').sort_values(by='Yes')"
   ]
  },
  {
   "cell_type": "code",
   "execution_count": 34,
   "id": "375f7682",
   "metadata": {},
   "outputs": [
    {
     "name": "stdout",
     "output_type": "stream",
     "text": [
      "4 = 0.090278, 3 = 0.144009, 2 = 0.189333, 1 = 0.337349\n"
     ]
    }
   ],
   "source": [
    "crosstab = pd.crosstab(df['JobInvolvement'], df['Attrition'], normalize='index')\n",
    "sorted_crosstab = crosstab.sort_values(by='Yes')\n",
    "\n",
    "result = ', '.join(sorted_crosstab.apply(lambda row: f\"{row.name} = {row['Yes']:.6f}\", axis=1))\n",
    "\n",
    "print(result)"
   ]
  },
  {
   "cell_type": "code",
   "execution_count": 30,
   "id": "72f03709",
   "metadata": {},
   "outputs": [
    {
     "name": "stdout",
     "output_type": "stream",
     "text": [
      "Chi-square statistic: 72.5290131066739\n",
      "p-value: 6.634684715458957e-15\n"
     ]
    }
   ],
   "source": [
    "crosstab = pd.crosstab(df.JobLevel, df.Attrition)\n",
    "res = chi2_contingency(crosstab)\n",
    "print(\"Chi-square statistic:\",res.statistic)\n",
    "print(\"p-value:\",res.pvalue)"
   ]
  },
  {
   "cell_type": "code",
   "execution_count": 31,
   "id": "bd7e3fc6",
   "metadata": {},
   "outputs": [
    {
     "data": {
      "text/html": [
       "<div>\n",
       "<style scoped>\n",
       "    .dataframe tbody tr th:only-of-type {\n",
       "        vertical-align: middle;\n",
       "    }\n",
       "\n",
       "    .dataframe tbody tr th {\n",
       "        vertical-align: top;\n",
       "    }\n",
       "\n",
       "    .dataframe thead th {\n",
       "        text-align: right;\n",
       "    }\n",
       "</style>\n",
       "<table border=\"1\" class=\"dataframe\">\n",
       "  <thead>\n",
       "    <tr style=\"text-align: right;\">\n",
       "      <th>Attrition</th>\n",
       "      <th>No</th>\n",
       "      <th>Yes</th>\n",
       "    </tr>\n",
       "    <tr>\n",
       "      <th>JobLevel</th>\n",
       "      <th></th>\n",
       "      <th></th>\n",
       "    </tr>\n",
       "  </thead>\n",
       "  <tbody>\n",
       "    <tr>\n",
       "      <th>4</th>\n",
       "      <td>0.952830</td>\n",
       "      <td>0.047170</td>\n",
       "    </tr>\n",
       "    <tr>\n",
       "      <th>5</th>\n",
       "      <td>0.927536</td>\n",
       "      <td>0.072464</td>\n",
       "    </tr>\n",
       "    <tr>\n",
       "      <th>2</th>\n",
       "      <td>0.902622</td>\n",
       "      <td>0.097378</td>\n",
       "    </tr>\n",
       "    <tr>\n",
       "      <th>3</th>\n",
       "      <td>0.853211</td>\n",
       "      <td>0.146789</td>\n",
       "    </tr>\n",
       "    <tr>\n",
       "      <th>1</th>\n",
       "      <td>0.736648</td>\n",
       "      <td>0.263352</td>\n",
       "    </tr>\n",
       "  </tbody>\n",
       "</table>\n",
       "</div>"
      ],
      "text/plain": [
       "Attrition        No       Yes\n",
       "JobLevel                     \n",
       "4          0.952830  0.047170\n",
       "5          0.927536  0.072464\n",
       "2          0.902622  0.097378\n",
       "3          0.853211  0.146789\n",
       "1          0.736648  0.263352"
      ]
     },
     "execution_count": 31,
     "metadata": {},
     "output_type": "execute_result"
    }
   ],
   "source": [
    "pd.crosstab(df['JobLevel'], df['Attrition'], normalize='index').sort_values(by='Yes')"
   ]
  },
  {
   "cell_type": "code",
   "execution_count": 35,
   "id": "628bb45a",
   "metadata": {},
   "outputs": [
    {
     "name": "stdout",
     "output_type": "stream",
     "text": [
      "4 = 0.047170, 5 = 0.072464, 2 = 0.097378, 3 = 0.146789, 1 = 0.263352\n"
     ]
    }
   ],
   "source": [
    "crosstab = pd.crosstab(df['JobLevel'], df['Attrition'], normalize='index')\n",
    "sorted_crosstab = crosstab.sort_values(by='Yes')\n",
    "\n",
    "result = ', '.join(sorted_crosstab.apply(lambda row: f\"{row.name} = {row['Yes']:.6f}\", axis=1))\n",
    "\n",
    "print(result)"
   ]
  },
  {
   "cell_type": "code",
   "execution_count": 36,
   "id": "58781855",
   "metadata": {},
   "outputs": [
    {
     "name": "stdout",
     "output_type": "stream",
     "text": [
      "Chi-square statistic: 86.19025367670434\n",
      "p-value: 2.7524816380506567e-15\n"
     ]
    }
   ],
   "source": [
    "crosstab = pd.crosstab(df.JobRole, df.Attrition)\n",
    "res = chi2_contingency(crosstab)\n",
    "print(\"Chi-square statistic:\",res.statistic)\n",
    "print(\"p-value:\",res.pvalue)"
   ]
  },
  {
   "cell_type": "code",
   "execution_count": 37,
   "id": "81771caa",
   "metadata": {},
   "outputs": [
    {
     "name": "stdout",
     "output_type": "stream",
     "text": [
      "Research Director = 0.025000, Manager = 0.049020, Healthcare Representative = 0.068702, Manufacturing Director = 0.068966, Research Scientist = 0.160959, Sales Executive = 0.174847, Human Resources = 0.230769, Laboratory Technician = 0.239382, Sales Representative = 0.397590\n"
     ]
    }
   ],
   "source": [
    "crosstab = pd.crosstab(df['JobRole'], df['Attrition'], normalize='index')\n",
    "sorted_crosstab = crosstab.sort_values(by='Yes')\n",
    "\n",
    "result = ', '.join(sorted_crosstab.apply(lambda row: f\"{row.name} = {row['Yes']:.6f}\", axis=1))\n",
    "\n",
    "print(result)"
   ]
  },
  {
   "cell_type": "code",
   "execution_count": 38,
   "id": "d875c222",
   "metadata": {},
   "outputs": [
    {
     "name": "stdout",
     "output_type": "stream",
     "text": [
      "Chi-square statistic: 17.505077010348\n",
      "p-value: 0.0005563004510387556\n"
     ]
    }
   ],
   "source": [
    "crosstab = pd.crosstab(df.JobSatisfaction, df.Attrition)\n",
    "res = chi2_contingency(crosstab)\n",
    "print(\"Chi-square statistic:\",res.statistic)\n",
    "print(\"p-value:\",res.pvalue)"
   ]
  },
  {
   "cell_type": "code",
   "execution_count": 39,
   "id": "e228cefe",
   "metadata": {},
   "outputs": [
    {
     "name": "stdout",
     "output_type": "stream",
     "text": [
      "4 = 0.113290, 2 = 0.164286, 3 = 0.165158, 1 = 0.228374\n"
     ]
    }
   ],
   "source": [
    "crosstab = pd.crosstab(df['JobSatisfaction'], df['Attrition'], normalize='index')\n",
    "sorted_crosstab = crosstab.sort_values(by='Yes')\n",
    "\n",
    "result = ', '.join(sorted_crosstab.apply(lambda row: f\"{row.name} = {row['Yes']:.6f}\", axis=1))\n",
    "\n",
    "print(result)"
   ]
  },
  {
   "cell_type": "code",
   "execution_count": 40,
   "id": "2dfbf7a0",
   "metadata": {},
   "outputs": [
    {
     "name": "stdout",
     "output_type": "stream",
     "text": [
      "Chi-square statistic: 46.163676540848705\n",
      "p-value: 9.455511060340833e-11\n"
     ]
    }
   ],
   "source": [
    "crosstab = pd.crosstab(df.MaritalStatus, df.Attrition)\n",
    "res = chi2_contingency(crosstab)\n",
    "print(\"Chi-square statistic:\",res.statistic)\n",
    "print(\"p-value:\",res.pvalue)"
   ]
  },
  {
   "cell_type": "code",
   "execution_count": 41,
   "id": "4ed2e2a6",
   "metadata": {},
   "outputs": [
    {
     "name": "stdout",
     "output_type": "stream",
     "text": [
      "Divorced = 0.100917, Married = 0.124814, Single = 0.255319\n"
     ]
    }
   ],
   "source": [
    "crosstab = pd.crosstab(df['MaritalStatus'], df['Attrition'], normalize='index')\n",
    "sorted_crosstab = crosstab.sort_values(by='Yes')\n",
    "\n",
    "result = ', '.join(sorted_crosstab.apply(lambda row: f\"{row.name} = {row['Yes']:.6f}\", axis=1))\n",
    "\n",
    "print(result)"
   ]
  },
  {
   "cell_type": "code",
   "execution_count": 42,
   "id": "aaa76e9b",
   "metadata": {},
   "outputs": [
    {
     "name": "stdout",
     "output_type": "stream",
     "text": [
      "Chi-square statistic: 1319.0239407845434\n",
      "p-value: 0.7085811366458127\n"
     ]
    }
   ],
   "source": [
    "crosstab = pd.crosstab(df.MonthlyIncome, df.Attrition)\n",
    "res = chi2_contingency(crosstab)\n",
    "print(\"Chi-square statistic:\",res.statistic)\n",
    "print(\"p-value:\",res.pvalue)"
   ]
  },
  {
   "cell_type": "code",
   "execution_count": 43,
   "id": "4ef77f8d",
   "metadata": {},
   "outputs": [
    {
     "name": "stdout",
     "output_type": "stream",
     "text": [
      "Chi-square statistic: 25.744404417151316\n",
      "p-value: 0.0022491782946850534\n"
     ]
    }
   ],
   "source": [
    "crosstab = pd.crosstab(df.NumCompaniesWorked, df.Attrition)\n",
    "res = chi2_contingency(crosstab)\n",
    "print(\"Chi-square statistic:\",res.statistic)\n",
    "print(\"p-value:\",res.pvalue)"
   ]
  },
  {
   "cell_type": "code",
   "execution_count": 44,
   "id": "65fe66ae",
   "metadata": {},
   "outputs": [
    {
     "name": "stdout",
     "output_type": "stream",
     "text": [
      "3 = 0.100629, 2 = 0.109589, 0 = 0.116751, 4 = 0.122302, 8 = 0.122449, 1 = 0.188100, 6 = 0.228571, 7 = 0.229730, 9 = 0.230769, 5 = 0.253968\n"
     ]
    }
   ],
   "source": [
    "crosstab = pd.crosstab(df['NumCompaniesWorked'], df['Attrition'], normalize='index')\n",
    "sorted_crosstab = crosstab.sort_values(by='Yes')\n",
    "\n",
    "result = ', '.join(sorted_crosstab.apply(lambda row: f\"{row.name} = {row['Yes']:.6f}\", axis=1))\n",
    "\n",
    "print(result)"
   ]
  },
  {
   "cell_type": "code",
   "execution_count": 47,
   "id": "6b8d99a1",
   "metadata": {},
   "outputs": [
    {
     "name": "stdout",
     "output_type": "stream",
     "text": [
      "Chi-square statistic: 87.56429365828768\n",
      "p-value: 8.158423721538322e-21\n"
     ]
    }
   ],
   "source": [
    "crosstab = pd.crosstab(df.OverTime, df.Attrition)\n",
    "res = chi2_contingency(crosstab)\n",
    "print(\"Chi-square statistic:\",res.statistic)\n",
    "print(\"p-value:\",res.pvalue)"
   ]
  },
  {
   "cell_type": "code",
   "execution_count": 48,
   "id": "05f5cb52",
   "metadata": {},
   "outputs": [
    {
     "name": "stdout",
     "output_type": "stream",
     "text": [
      "No = 0.104364, Yes = 0.305288\n"
     ]
    }
   ],
   "source": [
    "crosstab = pd.crosstab(df['OverTime'], df['Attrition'], normalize='index')\n",
    "sorted_crosstab = crosstab.sort_values(by='Yes')\n",
    "\n",
    "result = ', '.join(sorted_crosstab.apply(lambda row: f\"{row.name} = {row['Yes']:.6f}\", axis=1))\n",
    "\n",
    "print(result)"
   ]
  },
  {
   "cell_type": "code",
   "execution_count": 49,
   "id": "9a373eca",
   "metadata": {},
   "outputs": [
    {
     "name": "stdout",
     "output_type": "stream",
     "text": [
      "Chi-square statistic: 13.352748467459849\n",
      "p-value: 0.4989552229272689\n"
     ]
    }
   ],
   "source": [
    "crosstab = pd.crosstab(df.PercentSalaryHike, df.Attrition)\n",
    "res = chi2_contingency(crosstab)\n",
    "print(\"Chi-square statistic:\",res.statistic)\n",
    "print(\"p-value:\",res.pvalue)"
   ]
  },
  {
   "cell_type": "code",
   "execution_count": 50,
   "id": "7cb66c0f",
   "metadata": {},
   "outputs": [
    {
     "name": "stdout",
     "output_type": "stream",
     "text": [
      "Chi-square statistic: 0.00015475439428271534\n",
      "p-value: 0.9900745465934576\n"
     ]
    }
   ],
   "source": [
    "crosstab = pd.crosstab(df.PerformanceRating, df.Attrition)\n",
    "res = chi2_contingency(crosstab)\n",
    "print(\"Chi-square statistic:\",res.statistic)\n",
    "print(\"p-value:\",res.pvalue)"
   ]
  },
  {
   "cell_type": "code",
   "execution_count": 52,
   "id": "2aee89db",
   "metadata": {},
   "outputs": [
    {
     "name": "stdout",
     "output_type": "stream",
     "text": [
      "Chi-square statistic: 5.241067859713709\n",
      "p-value: 0.15497244371052638\n"
     ]
    }
   ],
   "source": [
    "crosstab = pd.crosstab(df.RelationshipSatisfaction, df.Attrition)\n",
    "res = chi2_contingency(crosstab)\n",
    "print(\"Chi-square statistic:\",res.statistic)\n",
    "print(\"p-value:\",res.pvalue)"
   ]
  },
  {
   "cell_type": "code",
   "execution_count": 53,
   "id": "85b6e925",
   "metadata": {},
   "outputs": [
    {
     "name": "stdout",
     "output_type": "stream",
     "text": [
      "Chi-square statistic: 60.59830108612225\n",
      "p-value: 4.379390336108354e-13\n"
     ]
    }
   ],
   "source": [
    "crosstab = pd.crosstab(df.StockOptionLevel, df.Attrition)\n",
    "res = chi2_contingency(crosstab)\n",
    "print(\"Chi-square statistic:\",res.statistic)\n",
    "print(\"p-value:\",res.pvalue)"
   ]
  },
  {
   "cell_type": "code",
   "execution_count": 54,
   "id": "61b7b778",
   "metadata": {},
   "outputs": [
    {
     "name": "stdout",
     "output_type": "stream",
     "text": [
      "2 = 0.075949, 1 = 0.093960, 3 = 0.176471, 0 = 0.244057\n"
     ]
    }
   ],
   "source": [
    "crosstab = pd.crosstab(df['StockOptionLevel'], df['Attrition'], normalize='index')\n",
    "sorted_crosstab = crosstab.sort_values(by='Yes')\n",
    "\n",
    "result = ', '.join(sorted_crosstab.apply(lambda row: f\"{row.name} = {row['Yes']:.6f}\", axis=1))\n",
    "\n",
    "print(result)"
   ]
  },
  {
   "cell_type": "code",
   "execution_count": 55,
   "id": "4ab5eb0d",
   "metadata": {},
   "outputs": [
    {
     "name": "stdout",
     "output_type": "stream",
     "text": [
      "Chi-square statistic: 122.30224255272786\n",
      "p-value: 1.5862421997095128e-10\n"
     ]
    }
   ],
   "source": [
    "crosstab = pd.crosstab(df.TotalWorkingYears, df.Attrition)\n",
    "res = chi2_contingency(crosstab)\n",
    "print(\"Chi-square statistic:\",res.statistic)\n",
    "print(\"p-value:\",res.pvalue)"
   ]
  },
  {
   "cell_type": "code",
   "execution_count": 57,
   "id": "68696264",
   "metadata": {},
   "outputs": [
    {
     "name": "stdout",
     "output_type": "stream",
     "text": [
      "Correlation coefficient: -0.17106324613622614\n"
     ]
    }
   ],
   "source": [
    "correlation = df['TotalWorkingYears'].corr(df['Attrition_Boolean'])\n",
    "\n",
    "print(\"Correlation coefficient:\", correlation)"
   ]
  },
  {
   "cell_type": "code",
   "execution_count": 58,
   "id": "f0072f8f",
   "metadata": {},
   "outputs": [
    {
     "name": "stdout",
     "output_type": "stream",
     "text": [
      "Chi-square statistic: 15.146451478483337\n",
      "p-value: 0.01914772986009514\n"
     ]
    }
   ],
   "source": [
    "crosstab = pd.crosstab(df.TrainingTimesLastYear, df.Attrition)\n",
    "res = chi2_contingency(crosstab)\n",
    "print(\"Chi-square statistic:\",res.statistic)\n",
    "print(\"p-value:\",res.pvalue)"
   ]
  },
  {
   "cell_type": "code",
   "execution_count": 60,
   "id": "0a76a86e",
   "metadata": {},
   "outputs": [
    {
     "name": "stdout",
     "output_type": "stream",
     "text": [
      "Correlation coefficient: -0.05947779855642029\n"
     ]
    }
   ],
   "source": [
    "correlation = df['TrainingTimesLastYear'].corr(df['Attrition_Boolean'])\n",
    "\n",
    "print(\"Correlation coefficient:\", correlation)"
   ]
  },
  {
   "cell_type": "code",
   "execution_count": 61,
   "id": "a9f3b6e3",
   "metadata": {},
   "outputs": [
    {
     "name": "stdout",
     "output_type": "stream",
     "text": [
      "Chi-square statistic: 16.3250970916474\n",
      "p-value: 0.0009725698845348822\n"
     ]
    }
   ],
   "source": [
    "crosstab = pd.crosstab(df.WorkLifeBalance, df.Attrition)\n",
    "res = chi2_contingency(crosstab)\n",
    "print(\"Chi-square statistic:\",res.statistic)\n",
    "print(\"p-value:\",res.pvalue)"
   ]
  },
  {
   "cell_type": "code",
   "execution_count": 62,
   "id": "b3888bc6",
   "metadata": {},
   "outputs": [
    {
     "name": "stdout",
     "output_type": "stream",
     "text": [
      "3 = 0.142217, 2 = 0.168605, 4 = 0.176471, 1 = 0.312500\n"
     ]
    }
   ],
   "source": [
    "crosstab = pd.crosstab(df['WorkLifeBalance'], df['Attrition'], normalize='index')\n",
    "sorted_crosstab = crosstab.sort_values(by='Yes')\n",
    "\n",
    "result = ', '.join(sorted_crosstab.apply(lambda row: f\"{row.name} = {row['Yes']:.6f}\", axis=1))\n",
    "\n",
    "print(result)"
   ]
  },
  {
   "cell_type": "code",
   "execution_count": 63,
   "id": "badeabb4",
   "metadata": {},
   "outputs": [
    {
     "name": "stdout",
     "output_type": "stream",
     "text": [
      "Chi-square statistic: 95.38875492754013\n",
      "p-value: 2.8429800084268176e-07\n"
     ]
    }
   ],
   "source": [
    "crosstab = pd.crosstab(df.YearsAtCompany, df.Attrition)\n",
    "res = chi2_contingency(crosstab)\n",
    "print(\"Chi-square statistic:\",res.statistic)\n",
    "print(\"p-value:\",res.pvalue)"
   ]
  },
  {
   "cell_type": "code",
   "execution_count": 64,
   "id": "dcd1c66c",
   "metadata": {},
   "outputs": [
    {
     "name": "stdout",
     "output_type": "stream",
     "text": [
      "Correlation coefficient: -0.13439221398997675\n"
     ]
    }
   ],
   "source": [
    "correlation = df['YearsAtCompany'].corr(df['Attrition_Boolean'])\n",
    "\n",
    "print(\"Correlation coefficient:\", correlation)"
   ]
  },
  {
   "cell_type": "code",
   "execution_count": 65,
   "id": "18958155",
   "metadata": {},
   "outputs": [
    {
     "name": "stdout",
     "output_type": "stream",
     "text": [
      "Chi-square statistic: 64.30094425056491\n",
      "p-value: 4.0560190505203795e-07\n"
     ]
    }
   ],
   "source": [
    "crosstab = pd.crosstab(df.YearsInCurrentRole, df.Attrition)\n",
    "res = chi2_contingency(crosstab)\n",
    "print(\"Chi-square statistic:\",res.statistic)\n",
    "print(\"p-value:\",res.pvalue)"
   ]
  },
  {
   "cell_type": "code",
   "execution_count": 66,
   "id": "7940067a",
   "metadata": {},
   "outputs": [
    {
     "name": "stdout",
     "output_type": "stream",
     "text": [
      "Correlation coefficient: -0.16054500426770077\n"
     ]
    }
   ],
   "source": [
    "correlation = df['YearsInCurrentRole'].corr(df['Attrition_Boolean'])\n",
    "\n",
    "print(\"Correlation coefficient:\", correlation)"
   ]
  },
  {
   "cell_type": "code",
   "execution_count": 67,
   "id": "7a82812f",
   "metadata": {},
   "outputs": [
    {
     "name": "stdout",
     "output_type": "stream",
     "text": [
      "Chi-square statistic: 21.844969938120684\n",
      "p-value: 0.11193387671448679\n"
     ]
    }
   ],
   "source": [
    "crosstab = pd.crosstab(df.YearsSinceLastPromotion, df.Attrition)\n",
    "res = chi2_contingency(crosstab)\n",
    "print(\"Chi-square statistic:\",res.statistic)\n",
    "print(\"p-value:\",res.pvalue)"
   ]
  },
  {
   "cell_type": "code",
   "execution_count": 68,
   "id": "6afd9fec",
   "metadata": {},
   "outputs": [
    {
     "name": "stdout",
     "output_type": "stream",
     "text": [
      "Chi-square statistic: 74.6171841152656\n",
      "p-value: 3.40833711883961e-09\n"
     ]
    }
   ],
   "source": [
    "crosstab = pd.crosstab(df.YearsWithCurrManager, df.Attrition)\n",
    "res = chi2_contingency(crosstab)\n",
    "print(\"Chi-square statistic:\",res.statistic)\n",
    "print(\"p-value:\",res.pvalue)"
   ]
  },
  {
   "cell_type": "code",
   "execution_count": 69,
   "id": "f8e81787",
   "metadata": {},
   "outputs": [
    {
     "name": "stdout",
     "output_type": "stream",
     "text": [
      "Correlation coefficient: -0.15619931590162864\n"
     ]
    }
   ],
   "source": [
    "correlation = df['YearsWithCurrManager'].corr(df['Attrition_Boolean'])\n",
    "\n",
    "print(\"Correlation coefficient:\", correlation)"
   ]
  }
 ],
 "metadata": {
  "kernelspec": {
   "display_name": "Python 3 (ipykernel)",
   "language": "python",
   "name": "python3"
  },
  "language_info": {
   "codemirror_mode": {
    "name": "ipython",
    "version": 3
   },
   "file_extension": ".py",
   "mimetype": "text/x-python",
   "name": "python",
   "nbconvert_exporter": "python",
   "pygments_lexer": "ipython3",
   "version": "3.11.4"
  }
 },
 "nbformat": 4,
 "nbformat_minor": 5
}
